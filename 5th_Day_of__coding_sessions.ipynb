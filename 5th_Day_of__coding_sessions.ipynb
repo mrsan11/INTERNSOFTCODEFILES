{
  "nbformat": 4,
  "nbformat_minor": 0,
  "metadata": {
    "colab": {
      "name": "5th Day of_ coding sessions.ipynb",
      "provenance": []
    },
    "kernelspec": {
      "name": "python3",
      "display_name": "Python 3"
    }
  },
  "cells": [
    {
      "cell_type": "code",
      "metadata": {
        "id": "Vac50fLqyZjr",
        "colab_type": "code",
        "colab": {}
      },
      "source": [
        "import math"
      ],
      "execution_count": 1,
      "outputs": []
    },
    {
      "cell_type": "code",
      "metadata": {
        "id": "L_iw7a7iyzoA",
        "colab_type": "code",
        "colab": {
          "base_uri": "https://localhost:8080/",
          "height": 34
        },
        "outputId": "16b5a01d-9b9c-4c3f-a4fa-8ba29389ccf9"
      },
      "source": [
        "math.ceil(2.4)"
      ],
      "execution_count": 2,
      "outputs": [
        {
          "output_type": "execute_result",
          "data": {
            "text/plain": [
              "3"
            ]
          },
          "metadata": {
            "tags": []
          },
          "execution_count": 2
        }
      ]
    },
    {
      "cell_type": "code",
      "metadata": {
        "id": "BAUAvT28y1vg",
        "colab_type": "code",
        "colab": {
          "base_uri": "https://localhost:8080/",
          "height": 54
        },
        "outputId": "a20d03b1-eaed-4173-a72d-a57224d9b9c4"
      },
      "source": [
        "print(dir(math))"
      ],
      "execution_count": 3,
      "outputs": [
        {
          "output_type": "stream",
          "text": [
            "['__doc__', '__loader__', '__name__', '__package__', '__spec__', 'acos', 'acosh', 'asin', 'asinh', 'atan', 'atan2', 'atanh', 'ceil', 'copysign', 'cos', 'cosh', 'degrees', 'e', 'erf', 'erfc', 'exp', 'expm1', 'fabs', 'factorial', 'floor', 'fmod', 'frexp', 'fsum', 'gamma', 'gcd', 'hypot', 'inf', 'isclose', 'isfinite', 'isinf', 'isnan', 'ldexp', 'lgamma', 'log', 'log10', 'log1p', 'log2', 'modf', 'nan', 'pi', 'pow', 'radians', 'sin', 'sinh', 'sqrt', 'tan', 'tanh', 'tau', 'trunc']\n"
          ],
          "name": "stdout"
        }
      ]
    },
    {
      "cell_type": "code",
      "metadata": {
        "id": "nYnFRddJy_RD",
        "colab_type": "code",
        "colab": {
          "base_uri": "https://localhost:8080/",
          "height": 151
        },
        "outputId": "43f839bf-1ca9-4f6a-c1cc-a9ca4198e076"
      },
      "source": [
        "help(math.ceil)"
      ],
      "execution_count": 4,
      "outputs": [
        {
          "output_type": "stream",
          "text": [
            "Help on built-in function ceil in module math:\n",
            "\n",
            "ceil(...)\n",
            "    ceil(x)\n",
            "    \n",
            "    Return the ceiling of x as an Integral.\n",
            "    This is the smallest integer >= x.\n",
            "\n"
          ],
          "name": "stdout"
        }
      ]
    },
    {
      "cell_type": "code",
      "metadata": {
        "id": "21B1CNKCzByi",
        "colab_type": "code",
        "colab": {
          "base_uri": "https://localhost:8080/",
          "height": 296
        },
        "outputId": "9e8024e8-773e-4ed4-ba96-83eec8d791cc"
      },
      "source": [
        "import foo.bar"
      ],
      "execution_count": 5,
      "outputs": [
        {
          "output_type": "error",
          "ename": "ModuleNotFoundError",
          "evalue": "ignored",
          "traceback": [
            "\u001b[0;31m---------------------------------------------------------------------------\u001b[0m",
            "\u001b[0;31mModuleNotFoundError\u001b[0m                       Traceback (most recent call last)",
            "\u001b[0;32m<ipython-input-5-55da487b42c6>\u001b[0m in \u001b[0;36m<module>\u001b[0;34m()\u001b[0m\n\u001b[0;32m----> 1\u001b[0;31m \u001b[0;32mimport\u001b[0m \u001b[0mfoo\u001b[0m\u001b[0;34m.\u001b[0m\u001b[0mbar\u001b[0m\u001b[0;34m\u001b[0m\u001b[0;34m\u001b[0m\u001b[0m\n\u001b[0m",
            "\u001b[0;31mModuleNotFoundError\u001b[0m: No module named 'foo'",
            "",
            "\u001b[0;31m---------------------------------------------------------------------------\u001b[0;32m\nNOTE: If your import is failing due to a missing package, you can\nmanually install dependencies using either !pip or !apt.\n\nTo view examples of installing some common dependencies, click the\n\"Open Examples\" button below.\n\u001b[0;31m---------------------------------------------------------------------------\u001b[0m\n"
          ]
        }
      ]
    },
    {
      "cell_type": "code",
      "metadata": {
        "id": "V4GTqk1IzOBh",
        "colab_type": "code",
        "colab": {}
      },
      "source": [
        "from foo import bar"
      ],
      "execution_count": null,
      "outputs": []
    },
    {
      "cell_type": "code",
      "metadata": {
        "id": "i_Sumze1zRMy",
        "colab_type": "code",
        "colab": {}
      },
      "source": [
        "__init__.py:\n",
        "__all__=[\"bar\"]"
      ],
      "execution_count": null,
      "outputs": []
    },
    {
      "cell_type": "code",
      "metadata": {
        "id": "NEA8beHlzb-0",
        "colab_type": "code",
        "colab": {}
      },
      "source": [
        "try:\n",
        "  f=open('testfile','w')\n",
        "  f.write('Test write this')\n",
        "except IOError:\n",
        "    print(\"Error: Could Not Find File or Read Data\")\n",
        "else:\n",
        "    print(\"Content Written Successfully!!\")\n",
        "    f.close()"
      ],
      "execution_count": null,
      "outputs": []
    },
    {
      "cell_type": "code",
      "metadata": {
        "id": "uIjMQERjz9Dg",
        "colab_type": "code",
        "colab": {}
      },
      "source": [
        "try:\n",
        "  f=open('testfile','r')\n",
        "  f.write('Test write this')\n",
        "except IOError:\n",
        "  print(\"Error: Could not find file or read data\")\n",
        "else:\n",
        "  print(\"Content written Successfully\")\n",
        "  f.close()"
      ],
      "execution_count": null,
      "outputs": []
    },
    {
      "cell_type": "code",
      "metadata": {
        "id": "sB-2Aym07KWZ",
        "colab_type": "code",
        "colab": {}
      },
      "source": [
        "try:\n",
        "  f=open('testfile','w')\n",
        "  f.writeE('Test write this')\n",
        "except:\n",
        "  print(\"Error:Couldnt find file or read any data\")\n",
        "else:\n",
        "  print(\"Content written successfully\")\n",
        "  f.close()\n"
      ],
      "execution_count": null,
      "outputs": []
    },
    {
      "cell_type": "code",
      "metadata": {
        "id": "tGYwf71k8Qgs",
        "colab_type": "code",
        "colab": {}
      },
      "source": [
        "try:\n",
        "  f=open(\"testfile\",\"w\")\n",
        "  f.write(\"Test Statement written\")\n",
        "finally:\n",
        "  print(\"Always exceute finally code blocks\")"
      ],
      "execution_count": null,
      "outputs": []
    },
    {
      "cell_type": "code",
      "metadata": {
        "id": "8wyxi8ae80_o",
        "colab_type": "code",
        "colab": {}
      },
      "source": [
        "def askint():\n",
        "  try:\n",
        "    val=int(input(\"Please enter an integer:\"))\n",
        "  except:\n",
        "    print(\"Looks like you did not enter an integer!!\")\n",
        "  finally:\n",
        "    print(\"Finally,I Executed!!\")\n",
        "    print(val)"
      ],
      "execution_count": null,
      "outputs": []
    },
    {
      "cell_type": "code",
      "metadata": {
        "id": "WopPkHMR9h_P",
        "colab_type": "code",
        "colab": {}
      },
      "source": [
        "askint()"
      ],
      "execution_count": null,
      "outputs": []
    },
    {
      "cell_type": "code",
      "metadata": {
        "id": "Kdw4jASK93ai",
        "colab_type": "code",
        "colab": {}
      },
      "source": [
        "askint()"
      ],
      "execution_count": null,
      "outputs": []
    },
    {
      "cell_type": "code",
      "metadata": {
        "id": "HS2OG-J3-UcW",
        "colab_type": "code",
        "colab": {}
      },
      "source": [
        "def askint():\n",
        "        try:\n",
        "            value = int(input(\"Please Enter an Integer: \"))\n",
        "        except:\n",
        "            print(\"I guess you did not Enter a Correct Integer!\")\n",
        "            value = int(input(\"Try again-Please enter a correct Integer: \"))\n",
        "        finally:\n",
        "            print(\"Finally, I executed!\")\n",
        "        print(value) "
      ],
      "execution_count": null,
      "outputs": []
    },
    {
      "cell_type": "code",
      "metadata": {
        "id": "D2dK6bfM_GPv",
        "colab_type": "code",
        "colab": {}
      },
      "source": [
        "askint()"
      ],
      "execution_count": null,
      "outputs": []
    },
    {
      "cell_type": "code",
      "metadata": {
        "id": "1xAA3i-A_HDA",
        "colab_type": "code",
        "colab": {}
      },
      "source": [
        "def askint():\n",
        "    while True:\n",
        "        try:\n",
        "            values = int(input(\"Please enter an integer: \"))\n",
        "        except:\n",
        "            print(\"I guess you did not enter an integer!!\")\n",
        "            continue\n",
        "        else:\n",
        "            print('Hurray!! thats an integer!')\n",
        "            break\n",
        "        finally:\n",
        "            print(\"YAYY, Its Done!\")\n",
        "        print(values)"
      ],
      "execution_count": null,
      "outputs": []
    },
    {
      "cell_type": "code",
      "metadata": {
        "id": "xX3v3soq_v-r",
        "colab_type": "code",
        "colab": {}
      },
      "source": [
        "askint()"
      ],
      "execution_count": null,
      "outputs": []
    },
    {
      "cell_type": "code",
      "metadata": {
        "id": "SZFhqpYB_1XI",
        "colab_type": "code",
        "colab": {
          "base_uri": "https://localhost:8080/",
          "height": 34
        },
        "outputId": "1ffced4b-5ceb-4852-f410-43706b3dede0"
      },
      "source": [
        "import sqlite3\n",
        "db=sqlite3.connect(\"my_database1.db\")\n",
        "db.execute(\"drop table if exists grades1\")\n",
        "db.execute(\"create table grades1(Id int, name text, score int)\")\n",
        "db.execute(\"insert into grades1(Id , name, score) values(101, 'Jim',99 )\")\n",
        "db.execute(\"insert into grades1(Id , name, score) values(102, 'Jill',98 )\")\n",
        "db.execute(\"insert into grades1(Id , name, score) values(103, 'Jung', 97 )\")\n",
        "db.execute(\"insert into grades1(Id , name, score) values(104, 'juck', 96 )\")\n",
        "db.execute(\"insert into grades1(Id , name, score) values(105, 'jong',95 )\")\n",
        "\n"
      ],
      "execution_count": 17,
      "outputs": [
        {
          "output_type": "execute_result",
          "data": {
            "text/plain": [
              "<sqlite3.Cursor at 0x7f3f7994b960>"
            ]
          },
          "metadata": {
            "tags": []
          },
          "execution_count": 17
        }
      ]
    },
    {
      "cell_type": "code",
      "metadata": {
        "id": "L0Nxd367A19x",
        "colab_type": "code",
        "colab": {}
      },
      "source": [
        "db.commit()"
      ],
      "execution_count": 22,
      "outputs": []
    },
    {
      "cell_type": "code",
      "metadata": {
        "id": "bKCc18jk37ej",
        "colab_type": "code",
        "colab": {
          "base_uri": "https://localhost:8080/",
          "height": 138
        },
        "outputId": "8ec4b89e-3580-400e-a6ad-67ccd9a3c126"
      },
      "source": [
        "results = db.execute(\"select * from grades1 order by Id \")\n",
        "for row in results:\n",
        "    print(row)\n",
        "print(\"-\" * 90 )"
      ],
      "execution_count": 21,
      "outputs": [
        {
          "output_type": "stream",
          "text": [
            "(101, 'Jim', 99)\n",
            "(102, 'Jill', 98)\n",
            "(103, 'Jung', 97)\n",
            "(104, 'juck', 96)\n",
            "(105, 'jong', 95)\n",
            "------------------------------------------------------------------------------------------\n"
          ],
          "name": "stdout"
        }
      ]
    },
    {
      "cell_type": "code",
      "metadata": {
        "id": "0Lusur664Gro",
        "colab_type": "code",
        "colab": {
          "base_uri": "https://localhost:8080/",
          "height": 54
        },
        "outputId": "3a000c08-61a4-4747-99a2-25a862213c74"
      },
      "source": [
        "results = db.execute(\"select * from grades1 where name = 'jim' \")\n",
        "for row in results:\n",
        "    print(row)\n",
        "print(\"-\" * 90 )"
      ],
      "execution_count": 20,
      "outputs": [
        {
          "output_type": "stream",
          "text": [
            "------------------------------------------------------------------------------------------\n"
          ],
          "name": "stdout"
        }
      ]
    },
    {
      "cell_type": "code",
      "metadata": {
        "id": "9lKzp8_R4p8-",
        "colab_type": "code",
        "colab": {
          "base_uri": "https://localhost:8080/",
          "height": 138
        },
        "outputId": "2304c0f9-df08-4e9a-91c7-2a15432ffeb0"
      },
      "source": [
        "results = db.execute(\"select * from grades1 where score >= 95 \")\n",
        "for row in results:\n",
        "    print(row)\n",
        "print(\"**\" * 90 )"
      ],
      "execution_count": 23,
      "outputs": [
        {
          "output_type": "stream",
          "text": [
            "(101, 'Jim', 99)\n",
            "(102, 'Jill', 98)\n",
            "(103, 'Jung', 97)\n",
            "(104, 'juck', 96)\n",
            "(105, 'jong', 95)\n",
            "************************************************************************************************************************************************************************************\n"
          ],
          "name": "stdout"
        }
      ]
    },
    {
      "cell_type": "code",
      "metadata": {
        "id": "xy4g3FTa6Q39",
        "colab_type": "code",
        "colab": {
          "base_uri": "https://localhost:8080/",
          "height": 101
        },
        "outputId": "f1141593-0686-42a4-e453-b7e068a5bfb7"
      },
      "source": [
        "results = db.execute(\"select name,id, score from grades1 order by score\")\n",
        "for row in results:\n",
        "    print(row)"
      ],
      "execution_count": 24,
      "outputs": [
        {
          "output_type": "stream",
          "text": [
            "('jong', 105, 95)\n",
            "('juck', 104, 96)\n",
            "('Jung', 103, 97)\n",
            "('Jill', 102, 98)\n",
            "('Jim', 101, 99)\n"
          ],
          "name": "stdout"
        }
      ]
    },
    {
      "cell_type": "code",
      "metadata": {
        "id": "8NQ8xZR3L9il",
        "colab_type": "code",
        "colab": {
          "base_uri": "https://localhost:8080/",
          "height": 101
        },
        "outputId": "c971567f-5828-44db-b83b-8b8b005f9118"
      },
      "source": [
        "results = db.execute(\"select name, score from grades1 order by score\")\n",
        "for coloumn in results:\n",
        "    print(coloumn)"
      ],
      "execution_count": 25,
      "outputs": [
        {
          "output_type": "stream",
          "text": [
            "('jong', 95)\n",
            "('juck', 96)\n",
            "('Jung', 97)\n",
            "('Jill', 98)\n",
            "('Jim', 99)\n"
          ],
          "name": "stdout"
        }
      ]
    },
    {
      "cell_type": "code",
      "metadata": {
        "id": "2hhNa3cgMCyQ",
        "colab_type": "code",
        "colab": {}
      },
      "source": [
        ""
      ],
      "execution_count": null,
      "outputs": []
    }
  ]
}