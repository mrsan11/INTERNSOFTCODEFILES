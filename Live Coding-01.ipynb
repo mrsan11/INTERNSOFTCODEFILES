# Importing the Libraries
import pandas as pd
import numpy as np 
import matplotlib.pyplot as plt
import statsmodels.formula.api as smf


# Reading the Data from files
data = pd.read_csv('advertising.csv',)
data.head()
data.shape


#plot Data Visually
fig, axs = plt.subplots(1, 3, sharey=True)
data.plot(kind='scatter', x='TV', y='Sales', ax=axs[1], figsize=(14, 8))
data.plot(kind='scatter', x='Radio', y='Sales', ax=axs[2])
data.plot(kind='scatter', x='Newspaper', y='Sales', ax=axs[0])


# X and Y axis Line for Regressions
feature_cols = ['TV']
X = data[feature_cols]
y = data.Sales


# Importinf Linerar Regressions
from sklearn.linear_model import LinearRegression
lr = LinearRegression()
lr.fit(X, y)


# printing LR
print(lr.intercept_)
print(lr.coef_)


y= 6.97 + 0.055*50
print(y)

# Creating a dataframe with min and max value in table
X_new = pd.DataFrame({'TV':[100]})
X_new.head()
lr.predict(X_new)


X_new = pd.DataFrame({'TV': [data.TV.min(), data.TV.max()]})
X_new.head()


preds = lr.predict(X_new)
preds


data.plot(kind='scatter', x='TV', y='Sales')
plt.plot(X_new, preds, c='red', linewidth=3)



lr = smf.ols(formula='Sales ~ TV', data=data).fit()
lr.conf_int()


#finding the Probablity values
lr.pvalues

#finding the R Square values
lr.rsquared

#Multi LR
feature_cols = ['TV', 'Radio', 'Newspaper']
X = data[feature_cols]
y = data.Sales


lr = LinearRegression()
lr.fit(X, y)


print(lr.intercept_)
print(lr.coef_)


lr = smf.ols(formula='Sales ~ TV + Radio + Newspaper', data=data).fit()
lr.conf_int()
lr.summary()


lr = smf.ols(formula='Sales ~ TV + Radio', data=data).fit()
lr.rsquared


lr = smf.ols(formula='Sales ~ TV + Radio + Newspaper', data=data).fit()
lr.rsquared
